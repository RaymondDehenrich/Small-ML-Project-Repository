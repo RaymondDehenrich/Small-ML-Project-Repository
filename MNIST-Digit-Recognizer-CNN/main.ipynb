{
 "cells": [
  {
   "cell_type": "code",
   "execution_count": 73,
   "metadata": {},
   "outputs": [],
   "source": [
    "import pandas as pd\n",
    "import matplotlib.pyplot as plt\n",
    "import torch\n",
    "import torch.nn as nn\n",
    "import torch.optim as optim\n",
    "from torch.utils.data import DataLoader,random_split\n",
    "from sklearn.metrics import ConfusionMatrixDisplay, confusion_matrix,r2_score,accuracy_score"
   ]
  },
  {
   "cell_type": "code",
   "execution_count": 74,
   "metadata": {},
   "outputs": [],
   "source": [
    "df_train = pd.read_csv('./train.csv')\n",
    "df_test = pd.read_csv('./test.csv')\n",
    "y = df_train['label'].values\n",
    "x = df_train.drop(columns='label').values\n",
    "y = torch.from_numpy(y)\n",
    "y = nn.functional.one_hot(y,10)\n",
    "x = x/255.0\n",
    "df_test = df_test/255.0"
   ]
  },
  {
   "cell_type": "code",
   "execution_count": 75,
   "metadata": {},
   "outputs": [],
   "source": [
    "class dataset(torch.utils.data.Dataset):\n",
    "    def __init__(self,paths):\n",
    "        self.dataset_df = pd.read_csv(paths)\n",
    "        self.y = self.dataset_df['label'].values\n",
    "        self.x = self.dataset_df.drop(columns='label').values\n",
    "        self.x = self.x/255.0\n",
    "        self.y = nn.functional.one_hot(torch.from_numpy(self.y),10)\n",
    "    \n",
    "    def __len__(self):\n",
    "        return len(self.x)\n",
    "    \n",
    "    def __getitem__(self,index):\n",
    "        img = x[index].copy()\n",
    "        img = img.reshape(1,28,28) \n",
    "        return img,y[index]"
   ]
  },
  {
   "cell_type": "code",
   "execution_count": 76,
   "metadata": {},
   "outputs": [],
   "source": [
    "dataset = dataset('./train.csv')\n",
    "dataset_size = len(dataset)\n",
    "train_size = int(0.7*dataset_size)\n",
    "test_size = dataset_size-train_size"
   ]
  },
  {
   "cell_type": "code",
   "execution_count": 77,
   "metadata": {},
   "outputs": [],
   "source": [
    "train_dataset ,test_dataset = random_split(dataset,[train_size,test_size])\n",
    "train_loader = DataLoader(train_dataset,shuffle=True,batch_size=64)\n",
    "test_loader = DataLoader(test_dataset,shuffle=False,batch_size=64)"
   ]
  },
  {
   "cell_type": "code",
   "execution_count": 88,
   "metadata": {},
   "outputs": [],
   "source": [
    "class model(nn.Module):\n",
    "    def __init__(self):\n",
    "        super(model,self).__init__()\n",
    "        self.models = nn.Sequential(\n",
    "        nn.Conv2d(1,32,3,1,0),\n",
    "        nn.LeakyReLU(0.05,True),\n",
    "        nn.Dropout2d(0.3),\n",
    "\n",
    "        nn.Conv2d(32,64,3,1,0),\n",
    "        nn.LeakyReLU(0.05,True),\n",
    "        nn.Dropout2d(0.2),\n",
    "\n",
    "        nn.Conv2d(64,128,3,1,0),\n",
    "        nn.LeakyReLU(0.05,True),\n",
    "        nn.Dropout2d(0.2),\n",
    "\n",
    "        nn.MaxPool2d(2),\n",
    "        nn.Conv2d(128,128,3,1,0),\n",
    "        nn.LeakyReLU(0.05,True),\n",
    "        nn.Dropout2d(0.2),\n",
    "        nn.MaxPool2d(2),\n",
    "        \n",
    "        nn.Flatten(1),\n",
    "        nn.Linear(2048,1024),\n",
    "        nn.LeakyReLU(0.05,True),\n",
    "        nn.Dropout(0.4),\n",
    "        nn.Linear(1024,2048),\n",
    "        nn.LeakyReLU(0.05,True),\n",
    "        nn.Dropout(0.1),\n",
    "\n",
    "        nn.Linear(2048,4096),\n",
    "        nn.LeakyReLU(0.05,True),\n",
    "        nn.Dropout(0.3),\n",
    "        nn.Linear(4096,10),\n",
    "    )\n",
    "    def forward(self,x):\n",
    "        return self.models(x)"
   ]
  },
  {
   "cell_type": "code",
   "execution_count": 89,
   "metadata": {},
   "outputs": [],
   "source": [
    "device = torch.device('cuda') if torch.cuda.is_available() else torch.device('cpu')\n",
    "mode = model().to(device)\n",
    "mode.double()\n",
    "optimizer = optim.AdamW(mode.parameters(),lr=0.0002,betas=(0.9,0.999),weight_decay=0.00002)\n",
    "criterion = nn.CrossEntropyLoss()"
   ]
  },
  {
   "cell_type": "code",
   "execution_count": 91,
   "metadata": {},
   "outputs": [
    {
     "name": "stdout",
     "output_type": "stream",
     "text": [
      "Epoch [0/153] Loss:0.019722361316002017\n",
      "Epoch [0/306] Loss:0.02058335253234106\n",
      "Epoch [0/459] Loss:0.020327426008912478\n",
      "Epoch 0 Loss:0.02029400882277949\n",
      "Epoch [1/153] Loss:0.013719953920586062\n",
      "Epoch [1/306] Loss:0.018282160665608792\n",
      "Epoch [1/459] Loss:0.020501779318349775\n",
      "Epoch 1 Loss:0.02064808549100986\n",
      "Epoch [2/153] Loss:0.01629171914167457\n",
      "Epoch [2/306] Loss:0.019907023461676433\n",
      "Epoch [2/459] Loss:0.019634437220680444\n",
      "Epoch 2 Loss:0.019696526098706944\n",
      "Epoch [3/153] Loss:0.013892642632354598\n",
      "Epoch [3/306] Loss:0.01493524087291557\n",
      "Epoch [3/459] Loss:0.015608766888139468\n",
      "Epoch 3 Loss:0.015575422374071047\n",
      "Epoch [4/153] Loss:0.010562107328487579\n",
      "Epoch [4/306] Loss:0.01344163453179991\n",
      "Epoch [4/459] Loss:0.014887843586781373\n",
      "Epoch 4 Loss:0.01485549796483729\n",
      "Epoch [5/153] Loss:0.014045359603175647\n",
      "Epoch [5/306] Loss:0.016286467876080065\n",
      "Epoch [5/459] Loss:0.017080319384714052\n",
      "Epoch 5 Loss:0.017228538179377844\n",
      "Epoch [6/153] Loss:0.014077704915894025\n",
      "Epoch [6/306] Loss:0.01746929211593275\n",
      "Epoch [6/459] Loss:0.016179622512520368\n",
      "Epoch 6 Loss:0.016727912873830065\n",
      "Epoch [7/153] Loss:0.011627508777642076\n",
      "Epoch [7/306] Loss:0.011759601110770597\n",
      "Epoch [7/459] Loss:0.011741856617520313\n",
      "Epoch 7 Loss:0.011717127379306377\n",
      "Epoch [8/153] Loss:0.011545919541056873\n",
      "Epoch [8/306] Loss:0.013878582009822947\n",
      "Epoch [8/459] Loss:0.015641900026999864\n",
      "Epoch 8 Loss:0.015608024729143558\n",
      "Epoch [9/153] Loss:0.008067440707450527\n",
      "Epoch [9/306] Loss:0.00920859222366827\n",
      "Epoch [9/459] Loss:0.011514000351439048\n",
      "Epoch 9 Loss:0.011702456050250516\n",
      "Epoch [10/153] Loss:0.017571155087989013\n",
      "Epoch [10/306] Loss:0.014322143243568574\n",
      "Epoch [10/459] Loss:0.013094003101786274\n",
      "Epoch 10 Loss:0.013067213755296151\n",
      "Epoch [11/153] Loss:0.00927473610834544\n",
      "Epoch [11/306] Loss:0.012105045093948337\n",
      "Epoch [11/459] Loss:0.010942435354894083\n",
      "Epoch 11 Loss:0.01091991326699787\n",
      "Epoch [12/153] Loss:0.009568995597312417\n",
      "Epoch [12/306] Loss:0.012480819873722227\n",
      "Epoch [12/459] Loss:0.012171129038816826\n",
      "Epoch 12 Loss:0.012144671448534624\n",
      "Epoch [13/153] Loss:0.009481749044702828\n",
      "Epoch [13/306] Loss:0.007939360405858305\n",
      "Epoch [13/459] Loss:0.009599089979532188\n",
      "Epoch 13 Loss:0.009578246728590725\n",
      "Epoch [14/153] Loss:0.00881586378448274\n",
      "Epoch [14/306] Loss:0.010470931974954856\n",
      "Epoch [14/459] Loss:0.009370780699292038\n",
      "Epoch 14 Loss:0.009350463505923362\n",
      "Epoch [15/153] Loss:0.00621911638865664\n",
      "Epoch [15/306] Loss:0.009363654007594865\n",
      "Epoch [15/459] Loss:0.008884782993177128\n",
      "Epoch 15 Loss:0.008866539762886098\n",
      "Epoch [16/153] Loss:0.009605432028071363\n",
      "Epoch [16/306] Loss:0.009948636241917152\n",
      "Epoch [16/459] Loss:0.00884422742837217\n",
      "Epoch 16 Loss:0.008825590249618827\n",
      "Epoch [17/153] Loss:0.0067054565354847835\n",
      "Epoch [17/306] Loss:0.007595314252178623\n",
      "Epoch [17/459] Loss:0.007999970560954917\n",
      "Epoch 17 Loss:0.007991382782890726\n",
      "Epoch [18/153] Loss:0.010428821940098525\n",
      "Epoch [18/306] Loss:0.01262568553168011\n",
      "Epoch [18/459] Loss:0.012297902803072677\n",
      "Epoch 18 Loss:0.01231729742038347\n",
      "Epoch [19/153] Loss:0.007663051872129348\n",
      "Epoch [19/306] Loss:0.008403526696446196\n",
      "Epoch [19/459] Loss:0.009459422504211957\n",
      "Epoch 19 Loss:0.009439014175469983\n"
     ]
    }
   ],
   "source": [
    "mode.train()\n",
    "for epoch in range(0,20):\n",
    "    sum_loss = 0.0\n",
    "    count = 0\n",
    "    for i,data in enumerate(train_loader):\n",
    "        count+=1\n",
    "        optimizer.zero_grad()\n",
    "        img,label = data[0].to(device),data[1].to(device)\n",
    "        output = mode(img)\n",
    "        class_indices = label.nonzero().squeeze()\n",
    "        losses = criterion(output.float(),label.float())\n",
    "        losses.backward()\n",
    "        optimizer.step()\n",
    "        sum_loss += losses.item()\n",
    "        if count%((train_size//64)//3)==0:\n",
    "            print(f\"Epoch [{epoch}/{count}] Loss:{sum_loss/count}\")\n",
    "    print(f\"Epoch {epoch} Loss:{sum_loss/count}\")\n",
    "        \n",
    "         "
   ]
  },
  {
   "cell_type": "code",
   "execution_count": 92,
   "metadata": {},
   "outputs": [],
   "source": [
    "mode.eval()\n",
    "\n",
    "predict = []\n",
    "true_label = []\n",
    "for i,data in enumerate(test_loader):\n",
    "    data,label = data[0].to(device),data[1].to(device)\n",
    "    with torch.no_grad():\n",
    "        output = mode(data)\n",
    "    class_indices = label.nonzero().squeeze()\n",
    "    _,output = torch.max(output,1)\n",
    "\n",
    "    for i,j in zip(output,class_indices):\n",
    "        predict.append(i.item())\n",
    "        true_label.append(j[1].item())"
   ]
  },
  {
   "cell_type": "code",
   "execution_count": 95,
   "metadata": {},
   "outputs": [
    {
     "name": "stdout",
     "output_type": "stream",
     "text": [
      "R2 : 97.47484473\n",
      "Acc: 0.9895246409015157\n"
     ]
    }
   ],
   "source": [
    "r2 = round(r2_score(true_label , predict),10)*100\n",
    "accuracy = accuracy_score(true_label, predict)\n",
    "print(f'R2 : {r2}')\n",
    "print(f'Acc: {accuracy}')"
   ]
  },
  {
   "cell_type": "code",
   "execution_count": 86,
   "metadata": {},
   "outputs": [
    {
     "data": {
      "image/png": "[encoded data removed]",
      "text/plain": [
       "<Figure size 640x480 with 2 Axes>"
      ]
     },
     "metadata": {},
     "output_type": "display_data"
    }
   ],
   "source": [
    "cm = confusion_matrix(true_label,predict)\n",
    "disp = ConfusionMatrixDisplay(cm)\n",
    "disp.plot()\n",
    "plt.show()"
   ]
  }
 ],
 "metadata": {
  "kernelspec": {
   "display_name": "base",
   "language": "python",
   "name": "python3"
  },
  "language_info": {
   "codemirror_mode": {
    "name": "ipython",
    "version": 3
   },
   "file_extension": ".py",
   "mimetype": "text/x-python",
   "name": "python",
   "nbconvert_exporter": "python",
   "pygments_lexer": "ipython3",
   "version": "3.10.9"
  }
 },
 "nbformat": 4,
 "nbformat_minor": 2
}
